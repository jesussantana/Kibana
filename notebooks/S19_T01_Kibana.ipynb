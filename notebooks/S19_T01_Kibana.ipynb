{
 "cells": [
  {
   "cell_type": "markdown",
   "metadata": {},
   "source": [
    "# [IT Academy - Data Science with Python](https://www.barcelonactiva.cat/es/itacademy)\n",
    "## [S19 T01: Kibana](https://github.com/jesussantana/Kibana/blob/main/notebooks/S19_T01_Kibana.ipynb)\n",
    "\n",
    "[![forthebadge made-with-python](http://ForTheBadge.com/images/badges/made-with-python.svg)](https://www.python.org/)  \n",
    "[![Made withJupyter](https://img.shields.io/badge/Made%20with-Jupyter-orange?style=for-the-badge&logo=Jupyter)](https://jupyter.org/try)  "
   ]
  },
  {
   "cell_type": "markdown",
   "metadata": {},
   "source": [
    "*************\n",
    "*************\n",
    "*************\n",
    "*************"
   ]
  },
  {
   "cell_type": "markdown",
   "metadata": {},
   "source": [
    "## Exercise 1:\n",
    "- Download Kibana and display some graphs using Example datasets."
   ]
  },
  {
   "cell_type": "markdown",
   "metadata": {},
   "source": [
    "## Install Elasticsearch with Debian Package"
   ]
  },
  {
   "cell_type": "markdown",
   "metadata": {},
   "source": [
    "### Import the Elasticsearch PGP Key"
   ]
  },
  {
   "cell_type": "markdown",
   "metadata": {},
   "source": [
    "### Download and install the public signing key:"
   ]
  },
  {
   "cell_type": "code",
   "execution_count": null,
   "metadata": {},
   "outputs": [],
   "source": [
    "wget -qO - https://artifacts.elastic.co/GPG-KEY-elasticsearch | sudo apt-key add -"
   ]
  },
  {
   "cell_type": "markdown",
   "metadata": {},
   "source": [
    "### Install the apt-transport-https package"
   ]
  },
  {
   "cell_type": "code",
   "execution_count": null,
   "metadata": {},
   "outputs": [],
   "source": [
    "sudo apt-get install apt-transport-https"
   ]
  },
  {
   "cell_type": "markdown",
   "metadata": {},
   "source": [
    "### Save the repository definition"
   ]
  },
  {
   "cell_type": "code",
   "execution_count": null,
   "metadata": {},
   "outputs": [],
   "source": [
    "echo \"deb https://artifacts.elastic.co/packages/7.x/apt stable main\" | sudo tee /etc/apt/sources.list.d/elastic-7.x.list"
   ]
  },
  {
   "cell_type": "markdown",
   "metadata": {},
   "source": [
    "### Install the Elasticsearch Debian package"
   ]
  },
  {
   "cell_type": "code",
   "execution_count": null,
   "metadata": {},
   "outputs": [],
   "source": [
    "sudo apt-get update && sudo apt-get install elasticsearch"
   ]
  },
  {
   "cell_type": "markdown",
   "metadata": {},
   "source": [
    "### Runnig Elasticsearch with SysV init"
   ]
  },
  {
   "cell_type": "code",
   "execution_count": null,
   "metadata": {},
   "outputs": [],
   "source": [
    "sudo update-rc.d elasticsearch defaults 95 10"
   ]
  },
  {
   "cell_type": "markdown",
   "metadata": {},
   "source": [
    "### Elasticsearch can be started and stopped using the service command"
   ]
  },
  {
   "cell_type": "markdown",
   "metadata": {},
   "source": [
    "- sudo -i service elasticsearch start\n",
    "- sudo -i service elasticsearch stop"
   ]
  },
  {
   "cell_type": "markdown",
   "metadata": {},
   "source": [
    "### Install the Kibana Debian package"
   ]
  },
  {
   "cell_type": "code",
   "execution_count": null,
   "metadata": {},
   "outputs": [],
   "source": [
    "sudo apt-get update && sudo apt-get install kibana"
   ]
  },
  {
   "cell_type": "markdown",
   "metadata": {},
   "source": [
    "### Run Kibana with SysV"
   ]
  },
  {
   "cell_type": "code",
   "execution_count": null,
   "metadata": {},
   "outputs": [],
   "source": [
    "sudo update-rc.d kibana defaults 95 10"
   ]
  },
  {
   "cell_type": "markdown",
   "metadata": {},
   "source": [
    "### Can start and stop Kibana using the service command"
   ]
  },
  {
   "cell_type": "markdown",
   "metadata": {},
   "source": [
    "- sudo -i service kibana start\n",
    "- sudo -i service kibana stop"
   ]
  },
  {
   "cell_type": "markdown",
   "metadata": {},
   "source": [
    "### Open Kibana Panel"
   ]
  },
  {
   "cell_type": "markdown",
   "metadata": {},
   "source": [
    "### Visualize the Data"
   ]
  },
  {
   "cell_type": "markdown",
   "metadata": {},
   "source": [
    "![Bar vertical stacked](img/BarVerticalStacked.png)"
   ]
  },
  {
   "cell_type": "markdown",
   "metadata": {},
   "source": [
    "![Bar horizontal percentage](img/BarHorizontalPercentage.png)"
   ]
  },
  {
   "cell_type": "markdown",
   "metadata": {},
   "source": [
    "![Donut](img/donut.png)"
   ]
  },
  {
   "cell_type": "markdown",
   "metadata": {},
   "source": [
    "![Tree map](img/Treemap.png)"
   ]
  },
  {
   "cell_type": "markdown",
   "metadata": {},
   "source": []
  },
  {
   "cell_type": "markdown",
   "metadata": {},
   "source": [
    "### Add Data "
   ]
  },
  {
   "cell_type": "markdown",
   "metadata": {},
   "source": [
    "https://archive.ics.uci.edu/ml/datasets/online+news+popularity"
   ]
  },
  {
   "cell_type": "code",
   "execution_count": null,
   "metadata": {},
   "outputs": [],
   "source": [
    "http://localhos:5601"
   ]
  },
  {
   "cell_type": "markdown",
   "metadata": {},
   "source": [
    "1. Title: Online News Popularity\n",
    "\n",
    "2. Source:\n",
    "\n",
    "    -- Creators: Kelwin Fernandes (kafc ‘@’ inesctec.pt, kelwinfc ’@’ gmail.com),\n",
    "                 Pedro Vinagre (pedro.vinagre.sousa ’@’ gmail.com) and Pedro Sernadela\n",
    "    -- Donor: Kelwin Fernandes (kafc ’@’ inesctec.pt, kelwinfc '@' gmail.com)\n",
    "    -- Date: May, 2015\n",
    "\n",
    "\n",
    "3. Data Set Information:\n",
    "\n",
    "    -- The articles were published by Mashable (www.mashable.com) and their content as the rights to reproduce it belongs to them. Hence, this dataset does not share the original content but some statistics associated with it. The original content be publicly accessed and retrieved using the provided urls.\n",
    "    -- Acquisition date: January 8, 2015\n",
    "    -- The estimated relative performance values were estimated by the authors using a Random Forest classifier and a rolling windows as assessment method. See their article for more details on how the relative performance values were set.\n",
    "\n",
    "\n",
    "4. Attribute Information:\n",
    "\n",
    "5. Number of Instances: 39797 \n",
    "\n",
    "6. Number of Attributes: 61 (58 predictive attributes, 2 non-predictive, 1 goal field)\n",
    "\n",
    "7. Attribute Information:  \n",
    "\n",
    "     0. url:                           URL of the article\n",
    "     1. timedelta:                     Days between the article publication and the dataset acquisition\n",
    "     2. n_tokens_title:                Number of words in the title\n",
    "     3. n_tokens_content:              Number of words in the content\n",
    "     4. n_unique_tokens:               Rate of unique words in the content\n",
    "     5. n_non_stop_words:              Rate of non-stop words in the content\n",
    "     6. n_non_stop_unique_tokens:      Rate of unique non-stop words in the content\n",
    "     7. num_hrefs:                     Number of links\n",
    "     8. num_self_hrefs:                Number of links to other articles published by Mashable\n",
    "     9. num_imgs:                      Number of images\n",
    "    10. num_videos:                    Number of videos\n",
    "    11. average_token_length:          Average length of the words in the content\n",
    "    12. num_keywords:                  Number of keywords in the metadata\n",
    "    13. data_channel_is_lifestyle:     Is data channel 'Lifestyle'?\n",
    "    14. data_channel_is_entertainment: Is data channel 'Entertainment'?\n",
    "    15. data_channel_is_bus:           Is data channel 'Business'?\n",
    "    16. data_channel_is_socmed:        Is data channel 'Social Media'?\n",
    "    17. data_channel_is_tech:          Is data channel 'Tech'?\n",
    "    18. data_channel_is_world:         Is data channel 'World'?\n",
    "    19. kw_min_min:                    Worst keyword (min. shares)\n",
    "    20. kw_max_min:                    Worst keyword (max. shares)\n",
    "    21. kw_avg_min:                    Worst keyword (avg. shares)\n",
    "    22. kw_min_max:                    Best keyword (min. shares)\n",
    "    23. kw_max_max:                    Best keyword (max. shares)\n",
    "    24. kw_avg_max:                    Best keyword (avg. shares)\n",
    "    25. kw_min_avg:                    Avg. keyword (min. shares)\n",
    "    26. kw_max_avg:                    Avg. keyword (max. shares)\n",
    "    27. kw_avg_avg:                    Avg. keyword (avg. shares)\n",
    "    28. self_reference_min_shares:     Min. shares of referenced articles in Mashable\n",
    "    29. self_reference_max_shares:     Max. shares of referenced articles in Mashable\n",
    "    30. self_reference_avg_sharess:    Avg. shares of referenced articles in Mashable\n",
    "    31. weekday_is_monday:             Was the article published on a Monday?\n",
    "    32. weekday_is_tuesday:            Was the article published on a Tuesday?\n",
    "    33. weekday_is_wednesday:          Was the article published on a Wednesday?\n",
    "    34. weekday_is_thursday:           Was the article published on a Thursday?\n",
    "    35. weekday_is_friday:             Was the article published on a Friday?\n",
    "    36. weekday_is_saturday:           Was the article published on a Saturday?\n",
    "    37. weekday_is_sunday:             Was the article published on a Sunday?\n",
    "    38. is_weekend:                    Was the article published on the weekend?\n",
    "    39. LDA_00:                        Closeness to LDA topic 0\n",
    "    40. LDA_01:                        Closeness to LDA topic 1\n",
    "    41. LDA_02:                        Closeness to LDA topic 2\n",
    "    42. LDA_03:                        Closeness to LDA topic 3\n",
    "    43. LDA_04:                        Closeness to LDA topic 4\n",
    "    44. global_subjectivity:           Text subjectivity\n",
    "    45. global_sentiment_polarity:     Text sentiment polarity\n",
    "    46. global_rate_positive_words:    Rate of positive words in the content\n",
    "    47. global_rate_negative_words:    Rate of negative words in the content\n",
    "    48. rate_positive_words:           Rate of positive words among non-neutral tokens\n",
    "    49. rate_negative_words:           Rate of negative words among non-neutral tokens\n",
    "    50. avg_positive_polarity:         Avg. polarity of positive words\n",
    "    51. min_positive_polarity:         Min. polarity of positive words\n",
    "    52. max_positive_polarity:         Max. polarity of positive words\n",
    "    53. avg_negative_polarity:         Avg. polarity of negative  words\n",
    "    54. min_negative_polarity:         Min. polarity of negative  words\n",
    "    55. max_negative_polarity:         Max. polarity of negative  words\n",
    "    56. title_subjectivity:            Title subjectivity\n",
    "    57. title_sentiment_polarity:      Title polarity\n",
    "    58. abs_title_subjectivity:        Absolute subjectivity level\n",
    "    59. abs_title_sentiment_polarity:  Absolute polarity level\n",
    "    60. shares:                        Number of shares (target)     "
   ]
  },
  {
   "cell_type": "code",
   "execution_count": null,
   "metadata": {},
   "outputs": [],
   "source": []
  }
 ],
 "metadata": {
  "interpreter": {
   "hash": "31f2aee4e71d21fbe5cf8b01ff0e069b9275f58929596ceb00d14d90e3e16cd6"
  },
  "kernelspec": {
   "display_name": "Python 3",
   "language": "python",
   "name": "python3"
  },
  "language_info": {
   "codemirror_mode": {
    "name": "ipython",
    "version": 3
   },
   "file_extension": ".py",
   "mimetype": "text/x-python",
   "name": "python",
   "nbconvert_exporter": "python",
   "pygments_lexer": "ipython3",
   "version": "3.8.5"
  }
 },
 "nbformat": 4,
 "nbformat_minor": 2
}
